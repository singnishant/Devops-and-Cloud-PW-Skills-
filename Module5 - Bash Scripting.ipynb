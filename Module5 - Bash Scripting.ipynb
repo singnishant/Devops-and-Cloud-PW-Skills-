{
  "nbformat": 4,
  "nbformat_minor": 0,
  "metadata": {
    "colab": {
      "provenance": []
    },
    "kernelspec": {
      "name": "python3",
      "display_name": "Python 3"
    },
    "language_info": {
      "name": "python"
    }
  },
  "cells": [
    {
      "cell_type": "markdown",
      "source": [
        "Write a Bash script thatg\n",
        "- Creates a directory named \"backup\" in the user's home directory^\n",
        "- Copies all .txt files from the current directory into the \"backup\" directory^\n",
        "- Appends the current date and time to the filenames of the copied files."
      ],
      "metadata": {
        "id": "ThW2DJW5_x3h"
      }
    },
    {
      "cell_type": "code",
      "source": [
        "#!/bin/bash\n",
        "\n",
        "# Define the backup directory path\n",
        "BACKUP_DIR=\"$HOME/backup\"\n",
        "\n",
        "# Create the backup directory if it doesn't exist\n",
        "mkdir -p \"$BACKUP_DIR\"\n",
        "\n",
        "# Get current date and time in YYYY-MM-DD_HH-MM-SS format\n",
        "TIMESTAMP=$(date +\"%Y-%m-%d_%H-%M-%S\")\n",
        "\n",
        "# Loop through all .txt files in the current directory\n",
        "for FILE in *.txt; do\n",
        "    if [[ -f \"$FILE\" ]]; then\n",
        "        # Get the base name without extension\n",
        "        BASENAME=\"${FILE%.txt}\"\n",
        "        # Copy the file with the new name into the backup directory\n",
        "        cp \"$FILE\" \"$BACKUP_DIR/${BASENAME}_$TIMESTAMP.txt\"\n",
        "    fi\n",
        "done\n",
        "\n",
        "echo \"Backup complete. Files copied to $BACKUP_DIR with timestamp.\"                                                                  ~                                                                           ~                                                                           ~                                                                           ~                                                                           ~                                                                           ~                                                                           ~                                                                           ~                                                                           ~                                                                           ~                                                                           ~                                                                           ~                                                                           ~                                                                           ~                                                                           \"backup_txt.sh\" 25L, 644B                                 25,0-1"
      ],
      "metadata": {
        "id": "reLTAz7R_08K"
      },
      "execution_count": null,
      "outputs": []
    },
    {
      "cell_type": "markdown",
      "source": [
        "Task 2: System Health Check\n",
        "\n",
        "Create a script thatg\n",
        "- Checks the system’s CPU and memory usage^\n",
        "- Reports if the CPU usage is above 80% or if the available memory is below 20%^\n",
        "- Logs the results to a file named system_health.log"
      ],
      "metadata": {
        "id": "r3VYGL36ACwV"
      }
    },
    {
      "cell_type": "code",
      "source": [
        "#!/bin/bash\n",
        "\n",
        "# Log file path\n",
        "LOG_FILE=\"system_health.log\"\n",
        "\n",
        "# Get current date and time\n",
        "DATE_TIME=$(date \"+%Y-%m-%d %H:%M:%S\")\n",
        "\n",
        "# Get CPU usage as a whole number (e.g., 45 for 45%)\n",
        "CPU_USAGE=$(top -bn1 | grep \"Cpu(s)\" | awk '{print 100 - $8}' | cut -d'.' -f1)\n",
        "\n",
        "# Get total and available memory (in MB)\n",
        "MEM_TOTAL=$(free -m | awk '/Mem:/ {print $2}')\n",
        "MEM_AVAILABLE=$(free -m | awk '/Mem:/ {print $7}')\n",
        "\n",
        "# Calculate memory available percentage\n",
        "MEM_AVAILABLE_PERCENT=$(( 100 * MEM_AVAILABLE / MEM_TOTAL ))\n",
        "\n",
        "# Initialize the status message\n",
        "STATUS=\"OK\"\n",
        "\n",
        "# Check thresholds\n",
        "if [[ $CPU_USAGE -gt 80 ]]; then\n",
        "    STATUS=\"Warning: High CPU usage - ${CPU_USAGE}%\"\n",
        "elif [[ $MEM_AVAILABLE_PERCENT -lt 20 ]]; then\n",
        "    STATUS=\"Warning: Low available memory - ${MEM_AVAILABLE_PERCENT}%\"\n",
        "fi\n",
        "\n",
        "# Write log entry\n",
        "echo \"$DATE_TIME | CPU: ${CPU_USAGE}% | Mem: ${MEM_AVAILABLE_PERCENT}% free | Status: $STATUS\" >> \"$LOG_FILE\"\n",
        "\n",
        "~\n",
        "nishant@Nishant:~/ShellScripting$ ls\n",
        "backup_dir  backup_txt.sh  check_system_health.sh  i  system_health.log\n",
        "nishant@Nishant:~/ShellScripting$ cat system_health.log\n",
        "2025-06-29 14:15:28 | CPU: 1% | Mem: 86% free | Status: OK\n",
        "nishant@Nishant:~/ShellScripting$                                                                                                                                                           ~                                                                                                                                                           ~                                                                                                                                                           ~                                                                                                                                                           ~                                                                                                                                                           ~                                                                                                                                                           ~"
      ],
      "metadata": {
        "id": "vgSTiIM4AGhq"
      },
      "execution_count": null,
      "outputs": []
    },
    {
      "cell_type": "markdown",
      "source": [
        "Task 4: Automated Backup\n",
        "\n",
        "Create a script thatg\n",
        "- Takes a directory path as input from the user^\n",
        "- Compresses the directory into a .tar.gz file^\n",
        "- Saves the compressed file with a name that includes the current date (e.g., backup_2023-08-20.tar.gz)."
      ],
      "metadata": {
        "id": "eqPB0gQ9EkGv"
      }
    },
    {
      "cell_type": "code",
      "source": [
        "#!/bin/bash\n",
        "\n",
        "# Ask user for directory path\n",
        "read -p \"Enter the full path of the directory to back up: \" DIR_PATH\n",
        "\n",
        "# Check if directory exists\n",
        "if [[ ! -d \"$DIR_PATH\" ]]; then\n",
        "    echo \"Directory does not exist. Exiting.\"\n",
        "    exit 1\n",
        "fi\n",
        "\n",
        "# Get current date\n",
        "DATE=$(date +%Y-%m-%d)\n",
        "\n",
        "# Create backup filename\n",
        "BACKUP_NAME=\"backup_$DATE.tar.gz\"\n",
        "\n",
        "# Compress the directory\n",
        "tar -czf \"$BACKUP_NAME\" -C \"$(dirname \"$DIR_PATH\")\" \"$(basename \"$DIR_PATH\")\"\n",
        "\n",
        "echo \"Backup created successfully: $BACKUP_NAME\"\n"
      ],
      "metadata": {
        "id": "eBuwNQ71DS_O"
      },
      "execution_count": null,
      "outputs": []
    },
    {
      "cell_type": "markdown",
      "source": [
        "Create a Bash script thatg\n",
        "- Implements a simple command-line to-do list^\n",
        "- Allows the user to add tasks, view tasks, and remove tasks^\n",
        "- Saves the tasks to a file (e.g., todo.txt)."
      ],
      "metadata": {
        "id": "Ph4cHRSXEpUn"
      }
    },
    {
      "cell_type": "code",
      "source": [
        "#!/bin/bash\n",
        "\n",
        "TODO_FILE=\"todo.txt\"\n",
        "\n",
        "while true; do\n",
        "    echo \"To-Do List Menu:\"\n",
        "    echo \"1. View tasks\"\n",
        "    echo \"2. Add task\"\n",
        "    echo \"3. Remove task\"\n",
        "    echo \"4. Exit\"\n",
        "    read -p \"Choose an option (1-4): \" choice\n",
        "\n",
        "    case $choice in\n",
        "        1)\n",
        "            echo \"Your Tasks:\"\n",
        "            if [[ -s \"$TODO_FILE\" ]]; then\n",
        "                nl -w2 -s'. ' \"$TODO_FILE\"\n",
        "            else\n",
        "                echo \"No tasks found.\"\n",
        "            fi\n",
        "            ;;\n",
        "        2)\n",
        "            read -p \"Enter new task: \" task\n",
        "            echo \"$task\" >> \"$TODO_FILE\"\n",
        "            echo \"Task added.\"\n",
        "            ;;\n",
        "        3)\n",
        "            echo \"Current Tasks:\"\n",
        "            nl -w2 -s'. ' \"$TODO_FILE\"\n",
        "            read -p \"Enter task number to remove: \" num\n",
        "            sed -i \"${num}d\" \"$TODO_FILE\"\n",
        "            echo \"Task removed.\"\n",
        "            ;;\n",
        "        4)\n",
        "            echo \"Goodbye!\"\n",
        "            break\n",
        "            ;;\n",
        "        *)\n",
        "            echo \"Invalid option. Try again.\"\n",
        "            ;;\n",
        "\"todo_list.sh\" 44L, 992B"
      ],
      "metadata": {
        "id": "pUt8PjS9Fgil"
      },
      "execution_count": null,
      "outputs": []
    },
    {
      "cell_type": "markdown",
      "source": [
        "Task 7: Text File Processing\n",
        "\n",
        "Create a script thatg\n",
        "- Takes a text file as input^\n",
        "- Counts and displays the number of lines, words, and characters in the file^\n",
        "- Finds and displays the longest word in the file."
      ],
      "metadata": {
        "id": "4RzdABSaGG-O"
      }
    },
    {
      "cell_type": "code",
      "source": [
        "#!/bin/bash\n",
        "\n",
        "# Ask user for the file name\n",
        "read -p \"Enter the path to the text file: \" FILE\n",
        "\n",
        "# Check if file exists\n",
        "if [[ ! -f \"$FILE\" ]]; then\n",
        "    echo \"File not found. Exiting.\"\n",
        "    exit 1\n",
        "fi\n",
        "\n",
        "# Count lines, words, and characters\n",
        "LINES=$(wc -l < \"$FILE\")\n",
        "WORDS=$(wc -w < \"$FILE\")\n",
        "CHARS=$(wc -m < \"$FILE\")\n",
        "\n",
        "# Find the longest word\n",
        "LONGEST_WORD=$(tr -s '[:space:]' '\\n' < \"$FILE\" | grep -E '^[[:alnum:]]+$' | awk '{ if (length > max) { max = length; word = $0 } } END { print word }')\n",
        "\n",
        "# Display results\n",
        "echo \"File: $FILE\"\n",
        "echo \"Lines: $LINES\"\n",
        "echo \"Words: $WORDS\"\n",
        "echo \"Characters: $CHARS\"\n",
        "echo \"Longest word: $LONGEST_WORD\"\n",
        "\n",
        "~"
      ],
      "metadata": {
        "id": "M7bmOsGLGHji"
      },
      "execution_count": null,
      "outputs": []
    }
  ]
}