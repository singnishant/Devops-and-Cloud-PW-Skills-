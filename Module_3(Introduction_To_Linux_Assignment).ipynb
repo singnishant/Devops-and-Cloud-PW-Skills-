{
  "nbformat": 4,
  "nbformat_minor": 0,
  "metadata": {
    "colab": {
      "provenance": []
    },
    "kernelspec": {
      "name": "python3",
      "display_name": "Python 3"
    },
    "language_info": {
      "name": "python"
    }
  },
  "cells": [
    {
      "cell_type": "markdown",
      "source": [
        "# 1. What is Linux?\n",
        "Ans -  Linux is an open source Operating System , It allows user to controll system hardware and softwere. It is based on open source model means users are allowed to view and edit source code .\n",
        "\n",
        "#2.  What is the difference between Hard Link & Soft Link?\n",
        "Ans - **Hard Link**:- It act as a copy of main file, if another copy got deleted, it will still contain the main data of the file.\n",
        "\n",
        "**Soft Link**:- A soft link act as a reference of original file but it does not contain the actual data, if data got deleted , soft link will not be able to refer to any file.\n",
        "\n",
        "#3.  What is a Kernel in Linux?\n",
        "Ans - Kernel is heart of linux /Operating system , It act as a bridge between Hardware and Softwere and manage system resources efficently , which help system application to run smoothly.\n",
        "\n",
        "#4. How do you create a user account?\n",
        "Ans - We can create a user account in linux with the help of **useradd** command. we should have the root privileage for creating user and locking it with a password.\n",
        "\n",
        "#5.  What is the ‘grep’ command used for in Linux?\n",
        "Ans - GREP Command is used to find file by providing parametres such as text, phrase and patterns.\n",
        "\n",
        "\n",
        "\n",
        "\n"
      ],
      "metadata": {
        "id": "fxlNbOeEd3Se"
      }
    },
    {
      "cell_type": "markdown",
      "source": [
        "#6.Step1: Create user p1\n",
        " # Step2: He should be part of 3 groups g1,g2,g3\n",
        " #  Step3: whenever he creates a file automatically in the group section of file grp g1 should come"
      ],
      "metadata": {
        "id": "ZvOkeswVn4e9"
      }
    },
    {
      "cell_type": "code",
      "source": [
        "root@Nishant:/# id p1\n",
        "id: ‘p1’: no such user\n",
        "\n",
        "#Step-1...For Creation of User...\n",
        "\n",
        "root@Nishant:/# useradd p1\n",
        "root@Nishant:/# passwd p1\n",
        "New password:\n",
        "Retype new password:\n",
        "passwd: password updated successfully\n",
        "\n",
        "#Step -2...He should be a part of 3 group ....\n",
        "\n",
        "root@Nishant:/# groupadd g1\n",
        "root@Nishant:/# groupadd g2\n",
        "root@Nishant:/# groupadd g3\n",
        "root@Nishant:/#\n",
        "\n",
        "#Step-3\n",
        "\n",
        "root@Nishant:/# usermod -G g1,g2,g3 p1\n",
        "root@Nishant:/# id p1\n",
        "uid=1001(p1) gid=1001(p1) groups=1001(p1),1002(g1),1003(g2),1004(g3)\n",
        "root@Nishant:/#\n",
        "\n",
        "\n",
        "\n",
        "\n"
      ],
      "metadata": {
        "id": "-To9O5Hh8XiP"
      },
      "execution_count": null,
      "outputs": []
    },
    {
      "cell_type": "markdown",
      "source": [
        "#6.  \n",
        "  **Step1**: Create directory /tmp/bg as root user and create files inside it.\n",
        "\n",
        " **Step2**: “abhi” should be the owner of the directory. He should be able to create files and delete files inside the directory and also he should be able to add content to all files inside the directory."
      ],
      "metadata": {
        "id": "jvlq-53uGvLq"
      }
    },
    {
      "cell_type": "code",
      "source": [
        "...\n",
        "Step1\n",
        "...\n",
        "\n",
        "root@Nishant:~# uname -a\n",
        "Linux Nishant 5.15.167.4-microsoft-standard-WSL2 #1 SMP Tue Nov 5 00:21:55 UTC 2024 x86_64 x86_64 x86_64 GNU/Linux\n",
        "root@Nishant:~# ls\n",
        "\n",
        "...\n",
        "Navigating to \"tmp\" folder and creating a directory \"bg\"\n",
        "...\n",
        "\n",
        "root@Nishant:~# cd /tmp/\n",
        "root@Nishant:/tmp# mkdir bg\n",
        "root@Nishant:/tmp# ls bg/\n",
        "root@Nishant:/tmp# ls -l\n",
        "total 24\n",
        "drwxr-xr-x 2 root root 4096 May 31 06:52 bg\n",
        "drwx------ 2 root root 4096 May 31 06:48 snap-private-tmp\n",
        "drwx------ 3 root root 4096 May 31 06:48 systemd-private-c9b40ba534b24f14b80e0b2a4bfcdef7-systemd-logind.service-bjBCIl\n",
        "drwx------ 3 root root 4096 May 31 06:48 systemd-private-c9b40ba534b24f14b80e0b2a4bfcdef7-systemd-resolved.service-MmaAe9\n",
        "drwx------ 3 root root 4096 May 31 06:48 systemd-private-c9b40ba534b24f14b80e0b2a4bfcdef7-systemd-timesyncd.service-XFrjXZ\n",
        "drwx------ 3 root root 4096 May 31 06:48 systemd-private-c9b40ba534b24f14b80e0b2a4bfcdef7-wsl-pro.service-zoDkJl\n",
        "root@Nishant:/tmp# cd bg/\n",
        "...\n",
        "Creating a file name \"nishant\" inside \"bg\" directory\n",
        "...\n",
        "\n",
        "root@Nishant:/tmp/bg# vi nishant\n",
        "root@Nishant:/tmp/bg# cat nishant\n",
        "Myself Nishant Kumar Singh and I'm part of cloud and devops may'25 batch.\n",
        "root@Nishant:/tmp/bg# ls\n",
        "nishant\n",
        "root@Nishant:/tmp/bg# ls -l nishant\n",
        "-rw-r--r-- 1 root root 74 May 31 06:54 nishant\n",
        "root@Nishant:/tmp/bg#\n",
        "\n",
        "...\n",
        "Step2\n",
        "...\n",
        "\n",
        "...\n",
        "For making abhi as owner I'm creating new user name \"abhi\" and making him owner of file \"nishant\" with chmod command and giving him read , write , execute permission 777 to do changes\n",
        "like adding file and deleting  file\n",
        "...\n",
        "\n",
        "nishant@Nishant:/$ useradd abhi\n",
        "useradd: Permission denied.\n",
        "useradd: cannot lock /etc/passwd; try again later.\n",
        "nishant@Nishant:/$ sudo su -\n",
        "root@Nishant:~# useradd abhi\n",
        "root@Nishant:~# addpasswd abhi\n",
        "addpasswd: command not found\n",
        "root@Nishant:~# sudo passwd abhi\n",
        "New password:\n",
        "Retype new password:\n",
        "passwd: password updated successfully\n",
        "root@Nishant:~# cd /tmp/bg/\n",
        "root@Nishant:/tmp/bg# ls -l nishant\n",
        "-rw-r--r-- 1 p1 root 74 May 31 06:54 nishant\n",
        "root@Nishant:/tmp/bg# chown abhi nishant\n",
        "root@Nishant:/tmp/bg# chmod 777 nishant\n",
        "root@Nishant:/tmp/bg# ls -l nishant\n",
        "-rwxrwxrwx 1 abhi root 74 May 31 06:54 nishant\n",
        "root@Nishant:/tmp/bg#\n"
      ],
      "metadata": {
        "id": "s6NKw4sUG7B3"
      },
      "execution_count": null,
      "outputs": []
    },
    {
      "cell_type": "markdown",
      "source": [
        "#7. You suspect that a particular process is consuming excessive CPU resources  on your Linux server. How would you identify and terminate this process?\n",
        "\n",
        "Ans- I'll identify particular process consuming more space with the help of \"top\" Command . From using that command we can check process id(PID)  of process consuming more resource and kill that process with \"kill PID No.\" to end that process."
      ],
      "metadata": {
        "id": "fB7YCxNuKHU5"
      }
    }
  ]
}