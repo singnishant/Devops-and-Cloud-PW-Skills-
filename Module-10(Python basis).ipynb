{
  "nbformat": 4,
  "nbformat_minor": 0,
  "metadata": {
    "colab": {
      "provenance": []
    },
    "kernelspec": {
      "name": "python3",
      "display_name": "Python 3"
    },
    "language_info": {
      "name": "python"
    }
  },
  "cells": [
    {
      "cell_type": "markdown",
      "source": [
        "**1** Explain the key features of Python that make it a popular choice for programming.\n",
        "\n",
        "Ans -\n",
        "1.Python is almost like english language and easy to understand.\n",
        "\n",
        "2. Large community and support\n",
        "\n",
        "3. Large Standard library\n",
        "\n",
        "4. It is versatile, begineer friendly and powerfull."
      ],
      "metadata": {
        "id": "ZlErpzT-iHNw"
      }
    },
    {
      "cell_type": "markdown",
      "source": [
        "**2**.Describe the role of predefined keywords in Python and provide examples of how they are used in a\n",
        "program?\n",
        "\n",
        "Ans -\n",
        "predefined keywords are special reserved words that have fixed meanings and are used to define the structure, flow, and logic of a program. They cannot be used as variable names or identifiers because Python uses them for specific purposes such as decision-making (if, else), looping (for, while), defining functions (def, return), and handling special values (True, False, None). In short, keywords are the building blocks of Python programs that tell the interpreter how to execute code."
      ],
      "metadata": {
        "id": "jUXr4Ui6iyL3"
      }
    },
    {
      "cell_type": "code",
      "source": [
        "#Example\n",
        "x = 5\n",
        "if x > 0:        # 'if' is a keyword\n",
        "    print(\"Positive number\")\n",
        "else:            # 'else' is a keyword\n",
        "    print(\"Non-positive number\")\n"
      ],
      "metadata": {
        "colab": {
          "base_uri": "https://localhost:8080/"
        },
        "id": "weEAKKLxjKQJ",
        "outputId": "db3716d8-04e2-491f-a54b-b6e30d8b5ae8"
      },
      "execution_count": 1,
      "outputs": [
        {
          "output_type": "stream",
          "name": "stdout",
          "text": [
            "Positive number\n"
          ]
        }
      ]
    },
    {
      "cell_type": "markdown",
      "source": [
        "**3**Compare and contrast mutable and immutable objects in Python with examples0\n",
        "\n",
        "\n",
        "Ans -\n",
        "Mutable Objects: Can be changed in place (no new object is created).\n",
        "\n",
        "example -list,set, dict\n",
        "\n",
        "\n",
        "Immutable Objects: Cannot be changed once created (a new object is created instead).\n",
        "\n",
        "example -float,bool,int,str,tuple\n"
      ],
      "metadata": {
        "id": "r--unYUUjZaG"
      }
    },
    {
      "cell_type": "markdown",
      "source": [
        "**4**Discuss the different types of operators in Python and provide examples of how they are used?\n",
        "\n",
        "Ans-\n",
        "\n",
        "Arithmetic - Math operations\n",
        "\n",
        "Comparison - Value comparison\n",
        "\n",
        "Logical - Combine conditions\n",
        "\n",
        "Assignment - Assign/update values\n",
        "\n",
        "Bitwise - Binary operations\n",
        "\n",
        "Membership - Check elements in a sequence\n",
        "\n",
        "Identity - Compare memory locations\n",
        "\n"
      ],
      "metadata": {
        "id": "KuTjOLk0kFJ_"
      }
    },
    {
      "cell_type": "markdown",
      "source": [
        "**5** Explain the concept of type casting in Python with examples?\n",
        "\n",
        "Ans -\n",
        "\n",
        "Type casting in Python means converting one data type into another.\n",
        "\n",
        "Below example shows,\"50\" (string) is converted into 50 (integer) using int()."
      ],
      "metadata": {
        "id": "vo_7PUFLkwzJ"
      }
    },
    {
      "cell_type": "code",
      "source": [
        "# Explicit type casting: string to integer\n",
        "num_str = \"50\"        # string\n",
        "num_int = int(num_str)  # converted to int\n",
        "print(num_int + 10)   # Output: 60"
      ],
      "metadata": {
        "colab": {
          "base_uri": "https://localhost:8080/"
        },
        "id": "2xNN3B7xlVVZ",
        "outputId": "8a91d397-be28-4451-983f-bf11f098134b"
      },
      "execution_count": 2,
      "outputs": [
        {
          "output_type": "stream",
          "name": "stdout",
          "text": [
            "60\n"
          ]
        }
      ]
    },
    {
      "cell_type": "markdown",
      "source": [
        "**6** How do conditional statements work in Python? Illustrate with examples?\n",
        "\n",
        "Ans -\n",
        "\n",
        "Conditional statements allow Python to make decisions and execute different blocks of code depending on whether a condition is True or False."
      ],
      "metadata": {
        "id": "APWan1jklfnP"
      }
    },
    {
      "cell_type": "code",
      "source": [
        "marks = 85\n",
        "\n",
        "if marks >= 90:\n",
        "    print(\"Grade A\")\n",
        "elif marks >= 75:\n",
        "    print(\"Grade B\")\n",
        "else:\n",
        "    print(\"Grade C\")\n"
      ],
      "metadata": {
        "colab": {
          "base_uri": "https://localhost:8080/"
        },
        "id": "ALZ9CZcPlvhS",
        "outputId": "33cc501c-ebff-42c5-85fc-058d5005d01d"
      },
      "execution_count": 3,
      "outputs": [
        {
          "output_type": "stream",
          "name": "stdout",
          "text": [
            "Grade B\n"
          ]
        }
      ]
    },
    {
      "cell_type": "markdown",
      "source": [
        "**7**Describe the different types of loops in Python and their use cases with examples?\n",
        "\n",
        "Ans -\n",
        "\n",
        "In Python,\n",
        "-A for loop is used when you know the number of iterations, often to go through sequences like lists, strings, or ranges.\n",
        "-A while loop is used when you want to keep running code until a condition becomes False.\n",
        " Example:"
      ],
      "metadata": {
        "id": "fYzBG9vql2Cn"
      }
    },
    {
      "cell_type": "code",
      "source": [
        "for i in range(3): print(i)   # 0 1 2\n",
        "count=3\n",
        "while count>0: print(count); count-=1   # 3 2 1\n"
      ],
      "metadata": {
        "colab": {
          "base_uri": "https://localhost:8080/"
        },
        "id": "_Wq_4FGsmRty",
        "outputId": "0775781c-3cdf-49fd-f4e7-a20191584641"
      },
      "execution_count": 4,
      "outputs": [
        {
          "output_type": "stream",
          "name": "stdout",
          "text": [
            "0\n",
            "1\n",
            "2\n",
            "3\n",
            "2\n",
            "1\n"
          ]
        }
      ]
    }
  ]
}