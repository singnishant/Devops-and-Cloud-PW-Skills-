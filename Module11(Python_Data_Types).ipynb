{
  "nbformat": 4,
  "nbformat_minor": 0,
  "metadata": {
    "colab": {
      "provenance": []
    },
    "kernelspec": {
      "name": "python3",
      "display_name": "Python 3"
    },
    "language_info": {
      "name": "python"
    }
  },
  "cells": [
    {
      "cell_type": "markdown",
      "source": [
        "1. What are data structures, and why are they important?\n",
        "\n",
        "Ans-A data structure is a way of organizing, storing, and managing data so it can be used efficiently.It enabling faster processing, better memory use, and scalable problem-solving, It enabling faster processing, better memory use, and scalable problem-solving.\n",
        "\n",
        "2.  Explain the difference between mutable and immutable data types with examples\n",
        "\n",
        "Ans - Mutable vs Immutable\n",
        "\n",
        "Mutable → Can be changed after creation (you can add, remove, or modify elements).\n",
        "Immutable → Cannot be changed once created (any “change” creates a new object).\n",
        "\n",
        "3. What are the main differences between lists and tuples in Python.\n",
        "\n",
        "Ans - Lists are mutable and slower, while tuples are immutable and faster in Python.\n",
        "\n",
        "4. Describe how dictionaries store data.\n",
        "\n",
        "Ans - Dictionaries in Python store data as key–value pairs using a hashing mechanism, where each key is unique and mapped to its value, allowing fast lookup, insertion, and deletion.\n",
        "\n",
        "5. Why might you use a set instead of a list in Python\n",
        "\n",
        "Ans - You might use a set instead of a list when you need to store unique items.\n",
        "\n",
        "6. What is a string in Python, and how is it different from a list\n",
        "\n",
        "Ans -A string in Python is an immutable sequence of characters, while a list is a mutable sequence of elements (which can be numbers, strings, or any objects).\n",
        "In short: String = fixed text data, List = editable collection of items.\n",
        "\n",
        "7. How do tuples ensure data integrity in Python\n",
        "\n",
        "Ans - Tuples ensure data integrity in Python by being immutable, meaning once created their elements cannot be changed, added, or removed—this prevents accidental modifications and keeps the data fixed and reliable.\n",
        "\n",
        "8.  What is a hash table, and how does it relate to dictionaries in Python\n",
        "\n",
        "Ans -A hash table is a data structure that stores data in key–value pairs and uses a hash function\n",
        "\n",
        "9.  Can lists contain different data types in Python\n",
        "\n",
        "Ans - Yes, lists in Python can hold elements of different data types (e.g., integers, strings, floats, even other lists).\n",
        "\n",
        "10.  Explain why strings are immutable in Python\n",
        "\n",
        "Ans -Strings are immutable because once created, their contents cannot be changed; any modification (like replace or concat) creates a new string object in memory.\n",
        "\n",
        "11. What advantages do dictionaries offer over lists for certain tasks\n",
        "\n",
        "Ans: Dictionaries provide fast lookups, insertions, and deletions using keys (thanks to hashing), while lists require searching through elements sequentially, which is slower.\n",
        "\n",
        "12. Describe a scenario where using a tuple would be preferable over a list\n",
        "\n",
        "Ans: Tuples are preferable when you need fixed, unchangeable data, like storing a person’s birthdate (1998, 5, 21) or coordinates (28.6, 77.2) that should never be altered.\n",
        "\n",
        "13. How do sets handle duplicate values in Python\n",
        "\n",
        "Ans: Sets automatically remove duplicates, keeping only unique elements.\n",
        "\n",
        "14. How does the “in” keyword work differently for lists and dictionaries\n",
        "\n",
        "Ans:\n",
        "\n",
        "For lists, in checks if a value exists in the list.\n",
        "\n",
        "For dictionaries, in checks only for keys, not values.\n",
        "\n",
        "15. Can you modify the elements of a tuple? Explain why or why not\n",
        "\n",
        "Ans:  No, you cannot modify tuple elements because tuples are immutable — once created, their contents cannot change. This ensures data integrity and reliability.\n",
        "\n",
        "16. What is a nested dictionary, and give an example of its use case\n",
        "\n",
        "Ans: A nested dictionary is a dictionary that contains another dictionary as its value. Use case: Storing structured data like student records.\n",
        "\n",
        "17. Describe the time complexity of accessing elements in a dictionary\n",
        "\n",
        "\n",
        "\n",
        "18. In what situations are lists preferred over dictionaries\n",
        "\n",
        "Ans: Lists are preferred when:\n",
        "\n",
        "The order of elements matters.\n",
        "\n",
        "You only need sequential data storage.\n",
        "\n",
        "You don’t need unique keys, just values (e.g., storing a shopping list).\n",
        "\n",
        "19. Why are dictionaries considered unordered, and how does that affect data retrieval\n",
        "\n",
        "Ans - Traditionally, dictionaries were unordered because they stored items based on hash values, not insertion order.\n",
        "\n",
        "20. Explain the difference between a list and a dictionary in terms of data retrieval.\n",
        "\n",
        "ans -List: Data is retrieved by index/position (my_list[0]).\n",
        "\n",
        "Dictionary: Data is retrieved by key (my_dict[\"name\"])."
      ],
      "metadata": {
        "id": "Gxc7rApW0YPP"
      }
    },
    {
      "cell_type": "code",
      "source": [
        "# Practical Questions\n",
        "#1 Write a code to create a string with your name and print it\n",
        "\n",
        "name = \"Nishant Singh\"\n",
        "print(name)\n",
        "\n"
      ],
      "metadata": {
        "colab": {
          "base_uri": "https://localhost:8080/"
        },
        "id": "HxyHAgA75R1I",
        "outputId": "db7451ff-88f4-4d40-b0eb-8cb0f67567e7"
      },
      "execution_count": 1,
      "outputs": [
        {
          "output_type": "stream",
          "name": "stdout",
          "text": [
            "Nishant Singh\n"
          ]
        }
      ]
    },
    {
      "cell_type": "code",
      "source": [
        "#2 Write a code to find the length of the string \"Hello World\"\n",
        "text = \"Hello World\"\n",
        "print(len(text))"
      ],
      "metadata": {
        "colab": {
          "base_uri": "https://localhost:8080/"
        },
        "id": "KUU2xA88hZFh",
        "outputId": "6e2d79f7-c4c2-4c10-c259-6fcf00c3bbe2"
      },
      "execution_count": 2,
      "outputs": [
        {
          "output_type": "stream",
          "name": "stdout",
          "text": [
            "11\n"
          ]
        }
      ]
    },
    {
      "cell_type": "code",
      "source": [
        "#3 Write a code to slice the first 3 characters from the string \"Python Programming\"\n",
        "\n",
        "word = \"Python Programming\"\n",
        "print(word[:3])"
      ],
      "metadata": {
        "colab": {
          "base_uri": "https://localhost:8080/"
        },
        "id": "EpLvtvjSheJG",
        "outputId": "ec67b6c5-4baf-417c-bf62-8ba7bfd98d4e"
      },
      "execution_count": 3,
      "outputs": [
        {
          "output_type": "stream",
          "name": "stdout",
          "text": [
            "Pyt\n"
          ]
        }
      ]
    },
    {
      "cell_type": "code",
      "source": [
        "# 4Write a code to convert the string \"hello\" to uppercase\n",
        "greet = \"hello\"\n",
        "print(greet.upper())\n"
      ],
      "metadata": {
        "colab": {
          "base_uri": "https://localhost:8080/"
        },
        "id": "WnyO7YYthyty",
        "outputId": "39738273-da9d-4b10-e03b-f07b18b2dfcb"
      },
      "execution_count": 4,
      "outputs": [
        {
          "output_type": "stream",
          "name": "stdout",
          "text": [
            "HELLO\n"
          ]
        }
      ]
    },
    {
      "cell_type": "code",
      "source": [
        "#5 Write a code to replace the word \"apple\" with \"orange\" in the string \"I like apple\"\n",
        "\n",
        "sentence = \"I like apple\"\n",
        "print(sentence.replace(\"apple\", \"orange\"))"
      ],
      "metadata": {
        "colab": {
          "base_uri": "https://localhost:8080/"
        },
        "id": "7OiboJX-hyH5",
        "outputId": "42bc7270-2c9a-4525-8b75-e67cd71c96ba"
      },
      "execution_count": 5,
      "outputs": [
        {
          "output_type": "stream",
          "name": "stdout",
          "text": [
            "I like orange\n"
          ]
        }
      ]
    },
    {
      "cell_type": "code",
      "source": [
        "#6 Write a code to create a list with numbers 1 to 5 and print it\n",
        "numbers = [1, 2, 3, 4, 5]\n",
        "print(numbers)"
      ],
      "metadata": {
        "colab": {
          "base_uri": "https://localhost:8080/"
        },
        "id": "wpDm4UL2iKWy",
        "outputId": "fee3cb16-c07f-4213-e011-cbdf17d58a2c"
      },
      "execution_count": 6,
      "outputs": [
        {
          "output_type": "stream",
          "name": "stdout",
          "text": [
            "[1, 2, 3, 4, 5]\n"
          ]
        }
      ]
    },
    {
      "cell_type": "code",
      "source": [
        "#7 Write a code to append the number 10 to the list [1, 2, 3, 4]\n",
        "\n",
        "my_list = [1, 2, 3, 4]\n",
        "my_list.append(10)\n",
        "print(my_list)"
      ],
      "metadata": {
        "colab": {
          "base_uri": "https://localhost:8080/"
        },
        "id": "Yx2WSglSi8nv",
        "outputId": "45da98b3-f81b-42aa-e96d-45b9a9c39ad1"
      },
      "execution_count": 7,
      "outputs": [
        {
          "output_type": "stream",
          "name": "stdout",
          "text": [
            "[1, 2, 3, 4, 10]\n"
          ]
        }
      ]
    },
    {
      "cell_type": "code",
      "source": [
        "#8 Write a code to remove the number 3 from the list [1, 2, 3, 4, 5]\n",
        "\n",
        "list_remove = [1, 2, 3, 4, 5]\n",
        "list_remove.remove(3)\n",
        "print(list_remove)"
      ],
      "metadata": {
        "colab": {
          "base_uri": "https://localhost:8080/"
        },
        "id": "89srP59SjEPO",
        "outputId": "2c922a4d-af7e-44e8-fcf0-d1ff131db69b"
      },
      "execution_count": 8,
      "outputs": [
        {
          "output_type": "stream",
          "name": "stdout",
          "text": [
            "[1, 2, 4, 5]\n"
          ]
        }
      ]
    },
    {
      "cell_type": "code",
      "source": [
        "#9 Write a code to access the second element in the list ['a', 'b', 'c', 'd']\n",
        "\n",
        "letters = ['a', 'b', 'c', 'd']\n",
        "print(letters[1])"
      ],
      "metadata": {
        "colab": {
          "base_uri": "https://localhost:8080/"
        },
        "id": "XmZE879hjID8",
        "outputId": "65c7389e-c71c-40ea-d712-ac7608e4994b"
      },
      "execution_count": 9,
      "outputs": [
        {
          "output_type": "stream",
          "name": "stdout",
          "text": [
            "b\n"
          ]
        }
      ]
    },
    {
      "cell_type": "code",
      "source": [
        "#10 Write a code to reverse the list [10, 20, 30, 40, 50].\n",
        "\n",
        "rev_list = [10, 20, 30, 40, 50]\n",
        "rev_list.reverse()\n",
        "print(rev_list)"
      ],
      "metadata": {
        "colab": {
          "base_uri": "https://localhost:8080/"
        },
        "id": "kY04SiWXjKRC",
        "outputId": "b543f23d-34fc-4e8d-dab8-8eea016aacc1"
      },
      "execution_count": 10,
      "outputs": [
        {
          "output_type": "stream",
          "name": "stdout",
          "text": [
            "[50, 40, 30, 20, 10]\n"
          ]
        }
      ]
    },
    {
      "cell_type": "code",
      "source": [
        "#11. Write a code to create a tuple with the elements 100, 200, 300 and print it.\n",
        "\n",
        "numbers = (100, 200, 300)\n",
        "print(numbers)"
      ],
      "metadata": {
        "colab": {
          "base_uri": "https://localhost:8080/"
        },
        "id": "wdlCghE2j-gk",
        "outputId": "f2126952-4902-462a-ea97-5470aac30ce7"
      },
      "execution_count": 11,
      "outputs": [
        {
          "output_type": "stream",
          "name": "stdout",
          "text": [
            "(100, 200, 300)\n"
          ]
        }
      ]
    },
    {
      "cell_type": "code",
      "source": [
        "#12. Write a code to access the second-to-last element of the tuple ('red', 'green', 'blue', 'yellow').\n",
        "\n",
        "colors = ('red', 'green', 'blue', 'yellow')\n",
        "print(colors[-2])   # Negative indexing: -1 is last, -2 is second-to-last"
      ],
      "metadata": {
        "colab": {
          "base_uri": "https://localhost:8080/"
        },
        "id": "OEwiel9_kWSJ",
        "outputId": "70d98dc4-3e93-433e-eae2-795190c024f7"
      },
      "execution_count": 12,
      "outputs": [
        {
          "output_type": "stream",
          "name": "stdout",
          "text": [
            "blue\n"
          ]
        }
      ]
    },
    {
      "cell_type": "code",
      "source": [
        "#13. Write a code to find the minimum number in the tuple (10, 20, 5, 15).\n",
        "\n",
        "nums = (10, 20, 5, 15)\n",
        "print(min(nums))"
      ],
      "metadata": {
        "id": "viUSZllIkajf"
      },
      "execution_count": null,
      "outputs": []
    },
    {
      "cell_type": "code",
      "source": [
        "#14. Write a code to find the index of the element \"cat\" in the tuple ('dog', 'cat', 'rabbit').\n",
        "\n",
        "animals = ('dog', 'cat', 'rabbit')\n",
        "print(animals.index(\"cat\"))"
      ],
      "metadata": {
        "colab": {
          "base_uri": "https://localhost:8080/"
        },
        "id": "SjtVHvXhkdxr",
        "outputId": "f022c62c-801c-4ca6-fcc2-b7e71da32dbb"
      },
      "execution_count": 13,
      "outputs": [
        {
          "output_type": "stream",
          "name": "stdout",
          "text": [
            "1\n"
          ]
        }
      ]
    },
    {
      "cell_type": "code",
      "source": [
        "#15. Write a code to create a tuple containing three different fruits and check if \"kiwi\" is in it.\n",
        "\n",
        "fruits = ('apple', 'banana', 'mango')\n",
        "print(\"kiwi\" in fruits)"
      ],
      "metadata": {
        "colab": {
          "base_uri": "https://localhost:8080/"
        },
        "id": "oLiloUs3kmpB",
        "outputId": "29820336-5eec-49ca-838a-ef8a31d4e1f3"
      },
      "execution_count": 14,
      "outputs": [
        {
          "output_type": "stream",
          "name": "stdout",
          "text": [
            "False\n"
          ]
        }
      ]
    }
  ]
}